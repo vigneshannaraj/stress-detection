{
 "cells": [
  {
   "cell_type": "code",
   "execution_count": 58,
   "id": "dd031b0e",
   "metadata": {},
   "outputs": [
    {
     "name": "stdout",
     "output_type": "stream",
     "text": [
      "<class 'pandas.core.frame.DataFrame'>\n",
      "RangeIndex: 100 entries, 0 to 99\n",
      "Data columns (total 3 columns):\n",
      " #   Column     Non-Null Count  Dtype \n",
      "---  ------     --------------  ----- \n",
      " 0   left_eye   100 non-null    object\n",
      " 1   right_eye  100 non-null    object\n",
      " 2   stress     100 non-null    int64 \n",
      "dtypes: int64(1), object(2)\n",
      "memory usage: 2.5+ KB\n"
     ]
    }
   ],
   "source": [
    "import pandas as pd\n",
    "from sklearn.model_selection import train_test_split\n",
    "from sklearn.ensemble import RandomForestClassifier\n",
    "from sklearn.metrics import accuracy_score, classification_report,confusion_matrix\n",
    "from tensorflow.keras.preprocessing.sequence import pad_sequences\n",
    "max_length = 210\n",
    "df = pd.read_csv(r\"C:\\Users\\vigne\\StressDetection-master\\Book1.csv\")\n",
    "df.info()\n",
    "def str_to_list(s):\n",
    "    return eval(s)\n",
    "def convert_to_list(id_array):\n",
    "    return list(id_array)\n",
    "df['left_eye'] = df['left_eye'].apply(str_to_list)\n",
    "df['right_eye'] = df['right_eye'].apply(str_to_list)\n",
    "df['concatenated'] = df['left_eye'] + df['right_eye']\n",
    "df['concatenated'] = df['concatenated'].apply(lambda x: pad_sequences([x], maxlen=max_length, padding='post')[0])\n",
    "df['concatenated'] = df['concatenated'].apply(convert_to_list)\n",
    "X = np.array(df['concatenated'].tolist())\n",
    "y = df['stress']"
   ]
  },
  {
   "cell_type": "code",
   "execution_count": 59,
   "id": "4abaceed",
   "metadata": {},
   "outputs": [
    {
     "name": "stdout",
     "output_type": "stream",
     "text": [
      "(100, 210)\n",
      "(100,)\n"
     ]
    }
   ],
   "source": [
    "print(X.shape)\n",
    "print(y.shape)"
   ]
  },
  {
   "cell_type": "code",
   "execution_count": 87,
   "id": "4e84ae89",
   "metadata": {},
   "outputs": [
    {
     "name": "stdout",
     "output_type": "stream",
     "text": [
      "train Accuracy: 1.0\n",
      "test Accuracy: 0.9\n"
     ]
    }
   ],
   "source": [
    "from sklearn.model_selection import train_test_split\n",
    "from sklearn.svm import SVC\n",
    "X_train, X_test, y_train, y_test = train_test_split(X, y, test_size=0.2, random_state=42)\n",
    "svc_classifier = SVC(kernel='linear', C=1.0, random_state=42)\n",
    "svc_classifier.fit(X_train, y_train)\n",
    "y_pred = svc_classifier.predict(X_train)\n",
    "accuracy = accuracy_score(y_train, y_pred)\n",
    "print(f'train Accuracy: {accuracy}')\n",
    "y_pred = svc_classifier.predict(X_test)\n",
    "accuracy = accuracy_score(y_test, y_pred)\n",
    "print(f'test Accuracy: {accuracy}')"
   ]
  },
  {
   "cell_type": "code",
   "execution_count": 98,
   "id": "c6acf78f",
   "metadata": {},
   "outputs": [
    {
     "data": {
      "text/plain": [
       "['svc.pkl']"
      ]
     },
     "execution_count": 98,
     "metadata": {},
     "output_type": "execute_result"
    }
   ],
   "source": [
    "# import joblib\n",
    "# joblib.dump(svc_classifier, 'svc.pkl')\n",
    "import joblib\n",
    "loaded_model = joblib.load('svc.pkl')"
   ]
  },
  {
   "cell_type": "code",
   "execution_count": 88,
   "id": "8a2078b4",
   "metadata": {},
   "outputs": [
    {
     "data": {
      "image/png": "[encoded data removed]",
      "text/plain": [
       "<Figure size 800x600 with 1 Axes>"
      ]
     },
     "metadata": {},
     "output_type": "display_data"
    },
    {
     "name": "stdout",
     "output_type": "stream",
     "text": [
      "Classification Report:\n",
      "              precision    recall  f1-score   support\n",
      "\n",
      "           1       1.00      0.60      0.75         5\n",
      "           2       0.71      1.00      0.83         5\n",
      "           3       1.00      1.00      1.00         3\n",
      "           4       1.00      1.00      1.00         4\n",
      "           5       1.00      1.00      1.00         3\n",
      "\n",
      "    accuracy                           0.90        20\n",
      "   macro avg       0.94      0.92      0.92        20\n",
      "weighted avg       0.93      0.90      0.90        20\n",
      "\n"
     ]
    }
   ],
   "source": [
    "from sklearn.metrics import accuracy_score, confusion_matrix, classification_report\n",
    "import matplotlib.pyplot as plt\n",
    "import seaborn as sns\n",
    "cm = confusion_matrix(y_test, y_pred)\n",
    "plt.figure(figsize=(8, 6))\n",
    "sns.heatmap(cm, annot=True, fmt='d', cmap='Blues', cbar=False)\n",
    "plt.title('Confusion Matrix')\n",
    "plt.xlabel('Predicted Labels')\n",
    "plt.ylabel('True Labels')\n",
    "plt.show()\n",
    "class_report = classification_report(y_test, y_pred)\n",
    "print('Classification Report:')\n",
    "print(class_report)"
   ]
  },
  {
   "cell_type": "code",
   "execution_count": 95,
   "id": "27487e4f",
   "metadata": {},
   "outputs": [
    {
     "name": "stdout",
     "output_type": "stream",
     "text": [
      "Prediction for single input instance: [1]\n"
     ]
    }
   ],
   "source": [
    "data=[0, 0, 0, 0, 3, 4, 5, 6, 6, 5, 9, 2, 0, 0, 0, 0, 0, 0, 1, 7, 5, 4, 4, 5, 7, 8, 10, 13, 0, 0, 0, 0, 0, 22, 10, 5, 4, 3, 5, 10, 14, 21, 23, 17, 2, 0, 11, 30, 35, 22, 6, 3, 2, 5, 13, 18, 33, 42, 32, 15, 2, 19, 28, 33, 37, 17, 5, 3, 2, 10, 27, 51, 57, 41, 6, 14, 16, 20, 25, 36, 28, 13, 9, 6, 19, 45, 50, 37, 0, 0, 0, 0, 0, 23, 24, 24, 19, 17, 19, 29, 38, 6, 0, 0, 0, 0, 0, 0, 1, 4, 5, 7, 8, 8, 6, 1, 0, 0, 0, 0, 0, 0, 6, 7, 6, 3, 5, 8, 7, 12, 18, 8, 0, 0, 0, 2, 15, 34, 11, 8, 5, 5, 7, 8, 24, 30, 21, 5, 0, 0, 23, 46, 54, 25, 14, 6, 4, 8, 19, 34, 30, 23, 15, 7, 1, 14, 35, 51, 37, 20, 9, 8, 15, 27, 33, 27, 20, 17, 15, 13, 0, 6, 10, 35, 27, 18, 16, 19, 25, 24, 22, 20, 21, 12, 4, 0, 0, 0, 2, 24, 22, 21, 19, 21, 21, 16, 1, 2, 1, 0]\n",
    "import joblib\n",
    "loaded_model = joblib.load('svc.pkl')\n",
    "X_single_input = np.array([data])\n",
    "y_single_pred = svc_classifier.predict(X_single_input)\n",
    "print(f'Prediction for single input instance: {y_single_pred}')"
   ]
  }
 ],
 "metadata": {
  "kernelspec": {
   "display_name": "Python 3 (ipykernel)",
   "language": "python",
   "name": "python3"
  },
  "language_info": {
   "codemirror_mode": {
    "name": "ipython",
    "version": 3
   },
   "file_extension": ".py",
   "mimetype": "text/x-python",
   "name": "python",
   "nbconvert_exporter": "python",
   "pygments_lexer": "ipython3",
   "version": "3.9.18"
  }
 },
 "nbformat": 4,
 "nbformat_minor": 5
}
