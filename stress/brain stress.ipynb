{
 "cells": [
  {
   "cell_type": "code",
   "execution_count": 11,
   "id": "eaf9aefd",
   "metadata": {},
   "outputs": [
    {
     "name": "stdout",
     "output_type": "stream",
     "text": [
      "Classification Report traindata:\n",
      "              precision    recall  f1-score   support\n",
      "\n",
      "           1       1.00      1.00      1.00       493\n",
      "           2       1.00      1.00      1.00       504\n",
      "           3       1.00      1.00      1.00       492\n",
      "           4       1.00      1.00      1.00       496\n",
      "           5       1.00      1.00      1.00       515\n",
      "\n",
      "    accuracy                           1.00      2500\n",
      "   macro avg       1.00      1.00      1.00      2500\n",
      "weighted avg       1.00      1.00      1.00      2500\n",
      "\n",
      "\n",
      "Confusion Matrix traindata:\n",
      "[[493   0   0   0   0]\n",
      " [  0 504   0   0   0]\n",
      " [  0   0 492   0   0]\n",
      " [  0   0   0 496   0]\n",
      " [  0   0   0   0 515]]\n",
      "Classification Report testdata:\n",
      "              precision    recall  f1-score   support\n",
      "\n",
      "           1       0.98      0.98      0.98       132\n",
      "           2       0.98      0.98      0.98       121\n",
      "           3       1.00      1.00      1.00       133\n",
      "           4       0.99      0.97      0.98       129\n",
      "           5       0.96      1.00      0.98       110\n",
      "\n",
      "    accuracy                           0.99       625\n",
      "   macro avg       0.99      0.99      0.99       625\n",
      "weighted avg       0.99      0.99      0.99       625\n",
      "\n",
      "\n",
      "Confusion Matrix testdata:\n",
      "[[130   0   0   1   1]\n",
      " [  1 118   0   0   2]\n",
      " [  0   0 133   0   0]\n",
      " [  1   2   0 125   1]\n",
      " [  0   0   0   0 110]]\n"
     ]
    }
   ],
   "source": [
    "# Importing necessary libraries\n",
    "import pandas as pd\n",
    "from sklearn.model_selection import train_test_split\n",
    "from sklearn.metrics import classification_report, confusion_matrix\n",
    "from sklearn.neural_network import MLPClassifier\n",
    "# Load CSV file into a DataFrame\n",
    "df = pd.read_csv('stressdata.csv')\n",
    "\n",
    "# Assuming the target column is named 'target'\n",
    "X = df.drop('stress_level', axis=1)  # Features\n",
    "y = df['stress_level']  # Target variable\n",
    "\n",
    "# Splitting the data into training and testing sets\n",
    "X_train, X_test, y_train, y_test = train_test_split(X, y, test_size=0.2, random_state=42)\n",
    "\n",
    "mlp = MLPClassifier(hidden_layer_sizes=(200,200), max_iter=1000, activation='tanh', solver='adam', random_state=42)  # You can adjust parameters\n",
    "mlp.fit(X_train, y_train)\n",
    "\n",
    "# Making predictions on the test set\n",
    "y_pred_mlp = mlp.predict(X_train)\n",
    "\n",
    "# Generating and printing the classification report\n",
    "report = classification_report(y_train, y_pred_mlp)\n",
    "print(\"Classification Report traindata:\")\n",
    "print(report)\n",
    "\n",
    "# Generating and printing the confusion matrix\n",
    "matrix = confusion_matrix(y_train, y_pred_mlp)\n",
    "print(\"\\nConfusion Matrix traindata:\")\n",
    "print(matrix)\n",
    "\n",
    "# Making predictions on the test set\n",
    "y_pred_mlp = mlp.predict(X_test)\n",
    "\n",
    "# Generating and printing the classification report\n",
    "report = classification_report(y_test, y_pred_mlp)\n",
    "print(\"Classification Report testdata:\")\n",
    "print(report)\n",
    "\n",
    "# Generating and printing the confusion matrix\n",
    "matrix = confusion_matrix(y_test, y_pred_mlp)\n",
    "print(\"\\nConfusion Matrix testdata:\")\n",
    "print(matrix)"
   ]
  },
  {
   "cell_type": "code",
   "execution_count": 12,
   "id": "ea6962e5",
   "metadata": {},
   "outputs": [
    {
     "data": {
      "text/plain": [
       "['mlp_model.joblib']"
      ]
     },
     "execution_count": 12,
     "metadata": {},
     "output_type": "execute_result"
    }
   ],
   "source": [
    "import joblib\n",
    "joblib.dump(mlp, 'mlp_model.joblib')\n",
    "#loaded_model_joblib = joblib.load('mlp_model.joblib')"
   ]
  }
 ],
 "metadata": {
  "kernelspec": {
   "display_name": "Python 3 (ipykernel)",
   "language": "python",
   "name": "python3"
  },
  "language_info": {
   "codemirror_mode": {
    "name": "ipython",
    "version": 3
   },
   "file_extension": ".py",
   "mimetype": "text/x-python",
   "name": "python",
   "nbconvert_exporter": "python",
   "pygments_lexer": "ipython3",
   "version": "3.9.18"
  }
 },
 "nbformat": 4,
 "nbformat_minor": 5
}
